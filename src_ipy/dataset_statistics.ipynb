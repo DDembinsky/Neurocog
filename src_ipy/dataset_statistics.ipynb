{
 "cells": [
  {
   "cell_type": "code",
   "execution_count": 3,
   "metadata": {},
   "outputs": [],
   "source": [
    "import pandas as pd\n",
    "import numpy as np\n",
    "import seaborn as sns\n",
    "import matplotlib.pyplot as plt\n",
    "\n",
    "from preprocess_data import preprocess_dataset, __normalize_dataframe"
   ]
  },
  {
   "attachments": {},
   "cell_type": "markdown",
   "metadata": {},
   "source": [
    "# Class distribution"
   ]
  },
  {
   "attachments": {},
   "cell_type": "markdown",
   "metadata": {},
   "source": [
    "Make windows of size 30sec like in original paper. Let them slide 10sec"
   ]
  },
  {
   "cell_type": "code",
   "execution_count": 4,
   "metadata": {},
   "outputs": [
    {
     "name": "stdout",
     "output_type": "stream",
     "text": [
      "Finished p1_d1. Took 0 minutes, 22 seconds\n",
      "Finished p1_d2. Took 0 minutes, 33 seconds\n",
      "Finished p2_d1. Took 0 minutes, 36 seconds\n",
      "Finished p2_d2. Took 0 minutes, 36 seconds\n",
      "Finished p3_d1. Took 0 minutes, 46 seconds\n",
      "Finished p3_d2. Took 0 minutes, 20 seconds\n",
      "Finished p4_d1. Took 0 minutes, 26 seconds\n",
      "Finished p4_d2. Took 0 minutes, 26 seconds\n",
      "Finished p5_d1. Took 0 minutes, 17 seconds\n",
      "Finished p5_d2. Took 0 minutes, 15 seconds\n",
      "Finished p6_d1. Took 0 minutes, 19 seconds\n",
      "Finished p6_d2. Took 0 minutes, 18 seconds\n",
      "Finished p7_d1. Took 0 minutes, 16 seconds\n",
      "Finished p7_d2. Took 0 minutes, 16 seconds\n",
      "Finished p8_d1. Took 0 minutes, 21 seconds\n",
      "Finished p8_d2. Took 0 minutes, 19 seconds\n",
      "Finished p9_d1. Took 0 minutes, 29 seconds\n",
      "Finished p9_d2. Took 0 minutes, 14 seconds\n",
      "Finished p10_d1. Took 0 minutes, 18 seconds\n",
      "Finished p10_d2. Took 0 minutes, 31 seconds\n"
     ]
    }
   ],
   "source": [
    "dfs = preprocess_dataset(\"condensed\", 3000, 1000)"
   ]
  },
  {
   "cell_type": "code",
   "execution_count": 38,
   "metadata": {},
   "outputs": [
    {
     "data": {
      "text/plain": [
       "dict_keys(['p1_d1', 'p1_d2', 'p2_d1', 'p2_d2', 'p3_d1', 'p3_d2', 'p4_d1', 'p4_d2', 'p5_d1', 'p5_d2', 'p6_d1', 'p6_d2', 'p7_d1', 'p7_d2', 'p8_d1', 'p8_d2', 'p9_d1', 'p9_d2', 'p10_d1', 'p10_d2'])"
      ]
     },
     "execution_count": 38,
     "metadata": {},
     "output_type": "execute_result"
    }
   ],
   "source": [
    "dfs.keys()"
   ]
  },
  {
   "cell_type": "code",
   "execution_count": 25,
   "metadata": {},
   "outputs": [
    {
     "name": "stdout",
     "output_type": "stream",
     "text": [
      "       person Not Reading English Japanese horizontal Japanese vertical\n",
      "0    person 1        5641     926                1014               987\n",
      "1    person 2        5673    1022                 871              1061\n",
      "2    person 3        5525     816                1309               827\n",
      "3    person 4        6394     771                 759               730\n",
      "4    person 5        4558     827                 831              1200\n",
      "5    person 6        4732    1188                 882               875\n",
      "6    person 7        3372     957                1085               843\n",
      "7    person 8        6204     706                 732               843\n",
      "8    person 9        4699     711                 806              1044\n",
      "9   person 10        6020     666                 959               847\n",
      "10        Sum       52818    8590                9248              9257\n"
     ]
    }
   ],
   "source": [
    "def get_class_dist(df):\n",
    "    cldtr = pd.DataFrame(columns=[\"person\", \"Not Reading\", \"English\", \"Japanese horizontal\", \"Japanese vertical\"])\n",
    "\n",
    "    for person in range(1,11,1):\n",
    "        d = np.array([0,0,0,0])\n",
    "        for day in range(1,3,1):\n",
    "            key = \"p{}_d{}\".format(person,day)\n",
    "            d  += (df[key].value_counts(subset=\"label\", sort = False).transpose().to_numpy())\n",
    "        df_ = pd.DataFrame({\"person\" : \"person {}\".format(person),  \"Not Reading\" : [d[0]], \"English\" : [d[1]], \"Japanese horizontal\" : [d[2]], \"Japanese vertical\": [d[3]] })\n",
    "        cldtr = pd.concat([cldtr, df_], axis = 0)\n",
    "\n",
    "    total = cldtr.sum().transpose().to_numpy()[1:]\n",
    "    df_ = pd.DataFrame({\"person\" : \"Sum\",  \"Not Reading\" : [total[0]], \"English\" : [total[1]], \"Japanese horizontal\" : [total[2]], \"Japanese vertical\": [total[3]] })\n",
    "    cldtr = pd.concat([cldtr, df_], axis = 0, ignore_index=True)  \n",
    "    return cldtr\n",
    "\n",
    "print(get_class_dist(dfs))"
   ]
  },
  {
   "cell_type": "code",
   "execution_count": 28,
   "metadata": {},
   "outputs": [
    {
     "data": {
      "text/plain": [
       "(36544, 17)"
      ]
     },
     "execution_count": 28,
     "metadata": {},
     "output_type": "execute_result"
    }
   ],
   "source": [
    "def  balance_class_distribution(ds : np.ndarray, randomize : bool = False) -> np.ndarray:\n",
    "    \"\"\"Performs undersampling on the majority class, to get a balanced distirbution of the dataset\n",
    "        Warning, dataset will be sorted by labels afterwards, if this is undesired, set ```randomize=True``` \n",
    "    Args:\n",
    "        ds (np.ndarray): dataset\n",
    "        randomize (bool): If True, randomizes the order of the samples, else they will be sorted\n",
    "\n",
    "    \"\"\"\n",
    "    # Get amount of smallest class\n",
    "    classes, classes_rep = np.unique(ds[:,-1], return_counts=True)\n",
    "    min_class_rep = min(classes_rep)\n",
    "\n",
    "    # We allow classes to have 10% more samples than minority class\n",
    "    thresh = int(min_class_rep * 1.1)\n",
    "    \n",
    "    new_ds = np.empty([0,ds.shape[1]])\n",
    "    for c,a in zip(classes, classes_rep):\n",
    "        ds_h = ds[ds[:,-1] == c]\n",
    "        \n",
    "        if a > thresh:\n",
    "            ind = np.random.choice(a,thresh,replace=False)\n",
    "            ds_h = ds_h[ind]\n",
    "        \n",
    "        new_ds = np.concatenate([new_ds,ds_h])\n",
    "    \n",
    "    if randomize:\n",
    "        np.random.shuffle(new_ds)\n",
    "        \n",
    "    return new_ds    \n",
    "    \n",
    "balance_class_distribution(np.concatenate([d.to_numpy() for d in dfs.values()])).shape"
   ]
  },
  {
   "cell_type": "code",
   "execution_count": 39,
   "metadata": {},
   "outputs": [
    {
     "name": "stdout",
     "output_type": "stream",
     "text": [
      "       person Not Reading English Japanese horizontal Japanese vertical\n",
      "0    person 1         825     793                 783               825\n",
      "1    person 2         957     930                 871               917\n",
      "2    person 3         873     816                 873               827\n",
      "3    person 4         757     757                 725               721\n",
      "4    person 5         847     809                 809               847\n",
      "5    person 6         884     884                 848               840\n",
      "6    person 7         781     781                 750               742\n",
      "7    person 8         776     706                 732               769\n",
      "8    person 9         781     711                 747               753\n",
      "9   person 10         732     666                 732               732\n",
      "10        Sum        8213    7853                7870              7973\n"
     ]
    }
   ],
   "source": [
    "dfr_cut = {key : pd.DataFrame(balance_class_distribution(dfs[key].to_numpy()), columns = dfs[key].columns) for key in dfs.keys()}\n",
    "print(get_class_dist(dfr_cut))"
   ]
  },
  {
   "attachments": {},
   "cell_type": "markdown",
   "metadata": {},
   "source": [
    "# Plot the data as timeseries"
   ]
  },
  {
   "cell_type": "code",
   "execution_count": 12,
   "metadata": {},
   "outputs": [],
   "source": [
    "p = 1\n",
    "d= 1\n",
    "file_name = \"p{}_d{}\".format(p,d)\n",
    "            \n",
    "df = pd.read_csv(\"data/\" + file_name + \".csv\")\n",
    "\n",
    "df = df.drop(labels=[\"#timestamp\",\"date_time\"], axis=1)\n",
    "\n",
    "df = __normalize_dataframe(df).reset_index()\n"
   ]
  },
  {
   "cell_type": "code",
   "execution_count": 13,
   "metadata": {},
   "outputs": [
    {
     "name": "stdout",
     "output_type": "stream",
     "text": [
      "           index      left     right     acc_x     acc_y     acc_z      roll  \\\n",
      "0              0  0.072956  0.055027 -0.604902  0.306398 -0.148112  1.004961   \n",
      "1              1  0.056713  0.039446 -0.558036  0.290017 -0.105145  0.944497   \n",
      "2              2  0.035057  0.023865 -0.589015  0.293100 -0.127179  0.912170   \n",
      "3              3  0.018815 -0.002104 -0.552476  0.283850 -0.166841  0.879843   \n",
      "4              4 -0.056981 -0.048848 -0.546916  0.273635 -0.174186  0.839733   \n",
      "...          ...       ...       ...       ...       ...       ...       ...   \n",
      "4207584  4207584 -0.019083 -0.059235 -0.907540  0.771622  0.479504 -0.028910   \n",
      "4207585  4207585 -0.073223 -0.121560 -0.873384  0.775090  0.482074 -0.012746   \n",
      "4207586  4207586 -0.046153 -0.074816 -0.865043  0.767574  0.506679 -0.002569   \n",
      "4207587  4207587 -0.046153 -0.085204 -0.894434  0.753120  0.451226  0.002819   \n",
      "4207588  4207588 -0.067809 -0.111173 -0.901583  0.746183  0.441310 -0.001970   \n",
      "\n",
      "            pitch       yaw  label  \n",
      "0        0.352324  0.206996      0  \n",
      "1        0.348104  0.199298      0  \n",
      "2        0.357951  0.178513      0  \n",
      "3        0.369909  0.165811      0  \n",
      "4        0.366392  0.155034      0  \n",
      "...           ...       ...    ...  \n",
      "4207584 -0.021871  0.028785      0  \n",
      "4207585 -0.024684  0.036098      0  \n",
      "4207586 -0.026091  0.031094      0  \n",
      "4207587 -0.016947  0.038023      0  \n",
      "4207588 -0.040158  0.044181      0  \n",
      "\n",
      "[4207589 rows x 10 columns]\n"
     ]
    },
    {
     "name": "stderr",
     "output_type": "stream",
     "text": [
      "d:\\Tools\\Anaconda\\lib\\site-packages\\IPython\\core\\pylabtools.py:151: UserWarning: Creating legend with loc=\"best\" can be slow with large amounts of data.\n",
      "  fig.canvas.print_figure(bytes_io, **kw)\n"
     ]
    },
    {
     "data": {
      "image/png": "[encoded data removed]",
      "text/plain": [
       "<Figure size 432x288 with 1 Axes>"
      ]
     },
     "metadata": {
      "needs_background": "light"
     },
     "output_type": "display_data"
    }
   ],
   "source": [
    "# Remove unnecessary columns\n",
    "\n",
    "#print(df)\n",
    "sns.lineplot(data=df, x = \"index\", y=\"left\", hue = \"label\")\n",
    "#sns.lineplot(data=df, y=\"acc_x\")\n",
    "#sns.lineplot(data=df, y=\"roll\")\n",
    "\n",
    "plt.show()\n"
   ]
  },
  {
   "cell_type": "code",
   "execution_count": 17,
   "metadata": {},
   "outputs": [],
   "source": [
    "dfs = preprocess_dataset(\"condensed\", persons=[1], days=[1] )[\"p1_d1\"].reset_index()\n"
   ]
  },
  {
   "cell_type": "code",
   "execution_count": 23,
   "metadata": {},
   "outputs": [
    {
     "data": {
      "image/png": "[encoded data removed]",
      "text/plain": [
       "<Figure size 432x288 with 1 Axes>"
      ]
     },
     "metadata": {
      "needs_background": "light"
     },
     "output_type": "display_data"
    }
   ],
   "source": [
    "sns.lineplot(data=dfs, x = \"index\", y=\"left std\", hue = \"label\")\n",
    "#sns.lineplot(data=df, y=\"acc_x\")\n",
    "#sns.lineplot(data=df, y=\"roll\")\n",
    "\n",
    "plt.show()"
   ]
  }
 ],
 "metadata": {
  "kernelspec": {
   "display_name": "base",
   "language": "python",
   "name": "python3"
  },
  "language_info": {
   "codemirror_mode": {
    "name": "ipython",
    "version": 3
   },
   "file_extension": ".py",
   "mimetype": "text/x-python",
   "name": "python",
   "nbconvert_exporter": "python",
   "pygments_lexer": "ipython3",
   "version": "3.9.12 (main, Apr  4 2022, 05:22:27) [MSC v.1916 64 bit (AMD64)]"
  },
  "orig_nbformat": 4,
  "vscode": {
   "interpreter": {
    "hash": "9df5590c36242588aa2ec08b48d5460772f3434d8fd6d76e09f7949a0a7cd2ae"
   }
  }
 },
 "nbformat": 4,
 "nbformat_minor": 2
}
