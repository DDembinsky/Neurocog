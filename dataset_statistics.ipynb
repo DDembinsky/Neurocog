{
 "cells": [
  {
   "cell_type": "code",
   "execution_count": 1,
   "metadata": {},
   "outputs": [],
   "source": [
    "import pandas as pd\n",
    "import numpy as np\n",
    "\n",
    "from src.preprocess_data import preprocess_dataset, pca_dataset"
   ]
  },
  {
   "attachments": {},
   "cell_type": "markdown",
   "metadata": {},
   "source": [
    "# Class distribution"
   ]
  },
  {
   "attachments": {},
   "cell_type": "markdown",
   "metadata": {},
   "source": [
    "Make windows of size 30sec like in original paper. Let them slide 10sec"
   ]
  },
  {
   "cell_type": "code",
   "execution_count": 4,
   "metadata": {},
   "outputs": [
    {
     "name": "stdout",
     "output_type": "stream",
     "text": [
      "Finished p1_d1. Took 0 minutes, 22 seconds\n",
      "Finished p1_d2. Took 0 minutes, 33 seconds\n",
      "Finished p2_d1. Took 0 minutes, 36 seconds\n",
      "Finished p2_d2. Took 0 minutes, 36 seconds\n",
      "Finished p3_d1. Took 0 minutes, 46 seconds\n",
      "Finished p3_d2. Took 0 minutes, 20 seconds\n",
      "Finished p4_d1. Took 0 minutes, 26 seconds\n",
      "Finished p4_d2. Took 0 minutes, 26 seconds\n",
      "Finished p5_d1. Took 0 minutes, 17 seconds\n",
      "Finished p5_d2. Took 0 minutes, 15 seconds\n",
      "Finished p6_d1. Took 0 minutes, 19 seconds\n",
      "Finished p6_d2. Took 0 minutes, 18 seconds\n",
      "Finished p7_d1. Took 0 minutes, 16 seconds\n",
      "Finished p7_d2. Took 0 minutes, 16 seconds\n",
      "Finished p8_d1. Took 0 minutes, 21 seconds\n",
      "Finished p8_d2. Took 0 minutes, 19 seconds\n",
      "Finished p9_d1. Took 0 minutes, 29 seconds\n",
      "Finished p9_d2. Took 0 minutes, 14 seconds\n",
      "Finished p10_d1. Took 0 minutes, 18 seconds\n",
      "Finished p10_d2. Took 0 minutes, 31 seconds\n"
     ]
    }
   ],
   "source": [
    "dfs = preprocess_dataset(\"condensed\", 3000, 1000)"
   ]
  },
  {
   "cell_type": "code",
   "execution_count": 5,
   "metadata": {},
   "outputs": [
    {
     "name": "stdout",
     "output_type": "stream",
     "text": [
      "       person Not Reading English Japanese horizontal Japanese vertical\n",
      "0    person 1        5641     926                1014               987\n",
      "1    person 2        5673    1022                 871              1061\n",
      "2    person 3        5525     816                1309               827\n",
      "3    person 4        6394     771                 759               730\n",
      "4    person 5        4558     827                 831              1200\n",
      "5    person 6        4732    1188                 882               875\n",
      "6    person 7        3372     957                1085               843\n",
      "7    person 8        6204     706                 732               843\n",
      "8    person 9        4699     711                 806              1044\n",
      "9   person 10        6020     666                 959               847\n",
      "10        Sum       52818    8590                9248              9257\n"
     ]
    }
   ],
   "source": [
    "cldtr = pd.DataFrame(columns=[\"person\", \"Not Reading\", \"English\", \"Japanese horizontal\", \"Japanese vertical\"])\n",
    "\n",
    "for person in range(1,11,1):\n",
    "    d = np.array([0,0,0,0])\n",
    "    for day in range(1,3,1):\n",
    "        key = \"p{}_d{}\".format(person,day)\n",
    "        d  += (dfs[key].value_counts(subset=\"label\", sort = False).transpose().to_numpy())\n",
    "    df = pd.DataFrame({\"person\" : \"person {}\".format(person),  \"Not Reading\" : [d[0]], \"English\" : [d[1]], \"Japanese horizontal\" : [d[2]], \"Japanese vertical\": [d[3]] })\n",
    "    cldtr = pd.concat([cldtr, df], axis = 0)\n",
    "\n",
    "total = cldtr.sum().transpose().to_numpy()[1:]\n",
    "df = pd.DataFrame({\"person\" : \"Sum\",  \"Not Reading\" : [total[0]], \"English\" : [total[1]], \"Japanese horizontal\" : [total[2]], \"Japanese vertical\": [total[3]] })\n",
    "cldtr = pd.concat([cldtr, df], axis = 0, ignore_index=True)  \n",
    "\n",
    "\n",
    "print(cldtr)"
   ]
  }
 ],
 "metadata": {
  "kernelspec": {
   "display_name": "base",
   "language": "python",
   "name": "python3"
  },
  "language_info": {
   "codemirror_mode": {
    "name": "ipython",
    "version": 3
   },
   "file_extension": ".py",
   "mimetype": "text/x-python",
   "name": "python",
   "nbconvert_exporter": "python",
   "pygments_lexer": "ipython3",
   "version": "3.9.12"
  },
  "orig_nbformat": 4,
  "vscode": {
   "interpreter": {
    "hash": "9df5590c36242588aa2ec08b48d5460772f3434d8fd6d76e09f7949a0a7cd2ae"
   }
  }
 },
 "nbformat": 4,
 "nbformat_minor": 2
}
